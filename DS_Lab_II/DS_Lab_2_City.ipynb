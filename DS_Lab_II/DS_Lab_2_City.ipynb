{
 "cells": [
  {
   "cell_type": "code",
   "execution_count": 1,
   "id": "721b7394-8c07-430a-b959-47316da4ea03",
   "metadata": {},
   "outputs": [],
   "source": [
    "from random import gauss\n",
    "\n"
   ]
  },
  {
   "cell_type": "markdown",
   "id": "77ce27bd-08bc-4919-9dae-cecacc15e7fd",
   "metadata": {},
   "source": [
    "Load the Global Land Temperature dataset as a list of lists. Before starting, take a moment to bet-\n",
    "ter inspect the attributes you are going to work on. How many of them are nominal, how many\n",
    "continuous or discrete?"
   ]
  },
  {
   "cell_type": "markdown",
   "id": "b23eb8d4-d9eb-48d5-acd3-e7dc9a6af4dd",
   "metadata": {},
   "source": [
    "As you can see, many of the columns are nominal, while there are two numerical continuous attributes: AverageTemperature and AverageTemperatureUncertainty."
   ]
  },
  {
   "cell_type": "code",
   "execution_count": 2,
   "id": "1505a5ee-8cc7-4d7e-9c2e-1ad4bd97565e",
   "metadata": {},
   "outputs": [],
   "source": [
    "import csv\n",
    "dataset = [[],[],[],[],[],[],[]]\n",
    "labels = []\n",
    "\n",
    "with open(\"GLT_filtered.csv\") as file:\n",
    "    csv_reader = csv.reader(file)\n",
    "    labels = next(csv_reader)\n",
    "    \n",
    "    for row in csv_reader:\n",
    "        if len(row) == len(labels): # every column must be present\n",
    "            for i in range(len(dataset)):\n",
    "                dataset[i].append(row[i])\n",
    "    "
   ]
  },
  {
   "cell_type": "markdown",
   "id": "a58637aa-80c1-4fec-9fbd-c720fdfafc1f",
   "metadata": {},
   "source": [
    "\n",
    "Exercise 1.2\n",
    "\n",
    "The columns AverageTemperature and AverageTemperatureUncertainty contain missing values. By simply counting them, we obtain:\n"
   ]
  },
  {
   "cell_type": "code",
   "execution_count": 3,
   "id": "01f42a01-8bf8-4665-9fa4-9eef13da0666",
   "metadata": {},
   "outputs": [
    {
     "name": "stdout",
     "output_type": "stream",
     "text": [
      "AverageTemperature, missing values out of the whole data: 12.56%\n",
      "AverageTemperatureUncertainty, missing values out of the whole data: 12.56%\n"
     ]
    }
   ],
   "source": [
    "def count_missing(data):\n",
    "    return sum([1 for d in data if d == '' or d == ' ' or d == 'Null' or d == 'NaN' or d == None])\n",
    "\n",
    "row_count = len(dataset[0])\n",
    "print(f'AverageTemperature, missing values out of the whole data: {100*count_missing(dataset[1])/row_count:.2f}%')\n",
    "print(f'AverageTemperatureUncertainty, missing values out of the whole data: {100*count_missing(dataset[2])/row_count:.2f}%')"
   ]
  },
  {
   "cell_type": "markdown",
   "id": "911dd697-a976-4961-b071-9f6a4dd50038",
   "metadata": {},
   "source": [
    "Analyze the attribute AverageTemperature, which contains missing values. Fill any gap with the\n",
    "arithmetic mean among the closest antecedent and the closest successive measurements in time,\n",
    "taken in the same city. Assume the following rules for edge cases:"
   ]
  },
  {
   "cell_type": "code",
   "execution_count": 4,
   "id": "4bdde161-b353-48c7-ab04-013b324bb872",
   "metadata": {},
   "outputs": [],
   "source": [
    "def fill_gaps(data, cities):\n",
    "    right_i = 0\n",
    "    right_v = 0\n",
    "\n",
    "    for i, value in enumerate(data):\n",
    "        if i == 0 or cities[i] != cities[i-1]:\n",
    "            left_v = 0\n",
    "        else: \n",
    "            left_v = data[i-1]\n",
    "# reuse the right_v value, useful when there are multiple consecutive missing values\n",
    "        if i<right_i:\n",
    "            data[i] = (left_v + right_v)/2\n",
    "            continue\n",
    "\n",
    "\n",
    "        if value == '':\n",
    "            for j in range(i+1, len(data)):\n",
    "                if cities[j] != cities[i]: # this check must come before\n",
    "                    right_v = 0\n",
    "                    break\n",
    "                elif data[j] != '':\n",
    "                    right_v = float(data[j])\n",
    "                    break\n",
    "            if i==len(data)-1: # edge case: the last value of the last city is empty\n",
    "                right_v = 0\n",
    "            right_i = j\n",
    "            data[i] = (left_v + right_v) / 2\n",
    "        else:\n",
    "            data[i] = float(data[i])\n",
    "\n",
    "    \n",
    "        "
   ]
  },
  {
   "cell_type": "markdown",
   "id": "67845376-755c-415d-9723-d2c322c61eb2",
   "metadata": {},
   "source": [
    "\n",
    "Version B\n",
    "\n",
    "The main idea is to work on measurements for each city separately. The data structure that helps here is the dictionary (this is true whenever you need to store and access quickly to something by any key value).\n",
    "\n",
    "So, let's extract the distinct cities and count them.\n"
   ]
  },
  {
   "cell_type": "code",
   "execution_count": 5,
   "id": "35523705-be3d-42a5-af78-337beb381c5d",
   "metadata": {},
   "outputs": [],
   "source": [
    "cities = set(dataset[3])\n",
    "\n",
    "avg_temp = {}\n",
    "avg_temp_unc = {}\n",
    "\n",
    "for city in cities:\n",
    "    indices = [i for i,c in enumerate(dataset[3]) if c==city]\n",
    "    avg_temp[city] = [dataset[1][i] for i in indices]\n",
    "    avg_temp_unc[city] = [dataset[2][i] for i in indices]"
   ]
  },
  {
   "cell_type": "code",
   "execution_count": 6,
   "id": "67cbe2f0-f178-49ed-a18b-1a1fc99b3cf6",
   "metadata": {},
   "outputs": [],
   "source": [
    "def fill_gaps(data):\n",
    "    right_i = 0\n",
    "    right_v = 0\n",
    "\n",
    "    for i, value in enumerate(data):\n",
    "        left_v = data[i-1] if i != 0 else 0\n",
    "\n",
    "        # reuse the right_v value, useful when there are multiple consecutive missing values\n",
    "        if i < right_i:\n",
    "            data[i] = (left_v + right_v)/2\n",
    "            continue\n",
    "\n",
    "        if value == '':\n",
    "            try:\n",
    "                # use a generator to search for the first occurrence\n",
    "                right_i, right_v = next((idx+i+1, float(v)) for idx,v in enumerate(data[i+1:]) if v!= '')\n",
    "            except StopIteration: # fired when the generator has no items left to iterate on\n",
    "                right_i = len(data)\n",
    "                right_v = 0\n",
    "            data[i] = (left_v + right_v) / 2\n",
    "        else:\n",
    "            data[i] = float(data[i]) # parse to float all present values\n"
   ]
  },
  {
   "cell_type": "code",
   "execution_count": 7,
   "id": "3804e48c-2dd1-4f5e-b791-89683daeac0c",
   "metadata": {},
   "outputs": [],
   "source": [
    "for city in cities:\n",
    "    fill_gaps(avg_temp[city])\n",
    "    fill_gaps(avg_temp_unc[city])"
   ]
  },
  {
   "cell_type": "markdown",
   "id": "43a8dcc8-c43b-4a8e-aaeb-d24571c0788e",
   "metadata": {},
   "source": [
    "Define a function that, given the name of a city and an integer N > 0, prints:\n",
    "(a) the top N hottest measurements;\n",
    "(b) the top N coldest measurements.\n",
    "\n",
    "Here we can use the dictionaries from Version B."
   ]
  },
  {
   "cell_type": "code",
   "execution_count": 8,
   "id": "4b1a03fa-8b86-4796-bf9d-85cdaa3b94fb",
   "metadata": {},
   "outputs": [],
   "source": [
    "\n",
    "def top_n_measurements(avg_temp, city, N):\n",
    "    sorted_measurements = sorted(avg_temp[city], reverse = True)\n",
    "    print(f'The top {N} hottest measurements taken in {city} are: ', sorted_measurements[:N])\n",
    "    print(f'The top {N} coolest measurements taken in {city} are: ', sorted_measurements[-1: -(N+1): -1])\n",
    "\n"
   ]
  },
  {
   "cell_type": "code",
   "execution_count": 9,
   "id": "ff2f92ab-689b-4a46-b242-7fdc944640ea",
   "metadata": {},
   "outputs": [
    {
     "name": "stdout",
     "output_type": "stream",
     "text": [
      "The top 5 hottest measurements taken in Rome are:  [25.951, 24.998, 24.873, 24.730999999999998, 24.48]\n",
      "The top 5 coolest measurements taken in Rome are:  [-1.4410000000000005, -1.3039999999999994, -1.0189999999999997, -0.871, -0.7829999999999999]\n"
     ]
    }
   ],
   "source": [
    "top_n_measurements(avg_temp, 'Rome', 5)"
   ]
  },
  {
   "cell_type": "markdown",
   "id": "866f26b7-11a0-451e-90dc-56d473f4be0b",
   "metadata": {},
   "source": [
    "Let’s search for other anomalies in data distribution with the help of matplotlib. Plot the distri-\n",
    "bution of the average land temperatures for Rome and Bangkok using the aforementioned histogram\n",
    "plotting function."
   ]
  },
  {
   "cell_type": "code",
   "execution_count": 10,
   "id": "43f02173-fb11-4f91-b3c3-9e89bdaa3001",
   "metadata": {
    "editable": true,
    "slideshow": {
     "slide_type": ""
    },
    "tags": []
   },
   "outputs": [
    {
     "data": {
      "image/png": "[encoded data removed]",
      "text/plain": [
       "<Figure size 640x480 with 1 Axes>"
      ]
     },
     "metadata": {},
     "output_type": "display_data"
    }
   ],
   "source": [
    "import matplotlib.pyplot as plt\n",
    "%matplotlib inline\n",
    "plt.rcParams['figure.dpi'] = 100\n",
    "\n",
    "for city in ['Rome', 'Bangkok']:\n",
    "    plt.hist(avg_temp[city], label=city)\n",
    "plt.legend()\n",
    "_ = plt.xlabel('AverageTemperature')\n",
    "plt.show()\n"
   ]
  },
  {
   "cell_type": "code",
   "execution_count": 11,
   "id": "07ad8f23-bbc3-4318-8e20-22778a38cb5f",
   "metadata": {},
   "outputs": [
    {
     "name": "stdout",
     "output_type": "stream",
     "text": [
      "Rome average temperature: 12.01, Standard deviation: 6.69\n",
      "Bangkok average temperature: 80.73, Standard deviation: 3.04\n"
     ]
    }
   ],
   "source": [
    "import numpy as np\n",
    "\n",
    "print(f'Rome average temperature: {np.mean(avg_temp[\"Rome\"]):.2f}, Standard deviation: {np.std(avg_temp[\"Rome\"]):.2f}')\n",
    "print(f'Bangkok average temperature: {np.mean(avg_temp[\"Bangkok\"]):.2f}, Standard deviation: {np.std(avg_temp[\"Bangkok\"]):.2f}')\n",
    "\n"
   ]
  },
  {
   "cell_type": "markdown",
   "id": "cb85ec84-0eb7-4f5a-9ee2-b72bb74f83e1",
   "metadata": {},
   "source": [
    "Perhaps the enormous difference is because bangkok's temperature measurements were done in fahrenheit."
   ]
  },
  {
   "cell_type": "code",
   "execution_count": 12,
   "id": "cc8db3d7-423c-4b8c-8fb9-a9f9c3a25684",
   "metadata": {},
   "outputs": [],
   "source": [
    "def fah2cel(fah):\n",
    "    return (fah-32) / 1.8"
   ]
  },
  {
   "cell_type": "code",
   "execution_count": 13,
   "id": "7bc13241-4f6c-4459-af4a-a048d8b75255",
   "metadata": {},
   "outputs": [],
   "source": [
    "bangkok_celsius = [fah2cel(m) for m in avg_temp['Bangkok']]\n"
   ]
  },
  {
   "cell_type": "code",
   "execution_count": 14,
   "id": "024573b6-7ce7-431a-bc13-751987ce43b7",
   "metadata": {},
   "outputs": [
    {
     "data": {
      "image/png": "[encoded data removed]",
      "text/plain": [
       "<Figure size 640x480 with 1 Axes>"
      ]
     },
     "metadata": {},
     "output_type": "display_data"
    }
   ],
   "source": [
    "\n",
    "plt.rcParams['figure.dpi'] = 100\n",
    "plt.hist(avg_temp['Rome'], label = 'Rome')\n",
    "plt.hist(avg_temp['Bangkok'], label = 'Bangkok Fahrenheit', alpha = 0.6)\n",
    "plt.hist(bangkok_celsius, label= 'Bangkok Celsius')\n",
    "_ = plt.xlabel('AverageTemperature')\n",
    "plt.show()"
   ]
  },
  {
   "cell_type": "code",
   "execution_count": 15,
   "id": "3f478759-aa45-43e9-9538-db1203d2bfe6",
   "metadata": {},
   "outputs": [
    {
     "name": "stdout",
     "output_type": "stream",
     "text": [
      "Rome average temperature: 12.01, Standard deviation: 6.69\n",
      "Bangkok average temperature: 27.07, Standard deviation: 1.69\n"
     ]
    }
   ],
   "source": [
    "print(f'Rome average temperature: {np.mean(avg_temp[\"Rome\"]):.2f}, Standard deviation: {np.std(avg_temp[\"Rome\"]):.2f}')\n",
    "print(f'Bangkok average temperature: {np.mean(bangkok_celsius):.2f}, Standard deviation: {np.std(bangkok_celsius):.2f}')"
   ]
  },
  {
   "cell_type": "code",
   "execution_count": null,
   "id": "c2f35261-816c-4c9d-8847-706e5adb9c3a",
   "metadata": {},
   "outputs": [],
   "source": []
  }
 ],
 "metadata": {
  "kernelspec": {
   "display_name": "base",
   "language": "python",
   "name": "python3"
  },
  "language_info": {
   "codemirror_mode": {
    "name": "ipython",
    "version": 3
   },
   "file_extension": ".py",
   "mimetype": "text/x-python",
   "name": "python",
   "nbconvert_exporter": "python",
   "pygments_lexer": "ipython3",
   "version": "3.12.7"
  }
 },
 "nbformat": 4,
 "nbformat_minor": 5
}
